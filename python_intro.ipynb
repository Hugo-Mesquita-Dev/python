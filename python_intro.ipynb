{
  "nbformat": 4,
  "nbformat_minor": 0,
  "metadata": {
    "colab": {
      "name": "python_intro.ipynb",
      "provenance": [],
      "collapsed_sections": [
        "68aRt2zTT-Vq"
      ],
      "include_colab_link": true
    },
    "kernelspec": {
      "name": "python3",
      "display_name": "Python 3"
    }
  },
  "cells": [
    {
      "cell_type": "markdown",
      "metadata": {
        "id": "view-in-github",
        "colab_type": "text"
      },
      "source": [
        "<a href=\"https://colab.research.google.com/github/Hugo-Mesquita-Dev/python/blob/main/python_intro.ipynb\" target=\"_parent\"><img src=\"https://colab.research.google.com/assets/colab-badge.svg\" alt=\"Open In Colab\"/></a>"
      ]
    },
    {
      "cell_type": "markdown",
      "metadata": {
        "id": "s1YHdkKsLHv0"
      },
      "source": [
        "## Python: Conhecendo a Linguagem\n",
        "\n"
      ]
    },
    {
      "cell_type": "markdown",
      "metadata": {
        "id": "1gApdkqgLXKj"
      },
      "source": [
        "# O que é Programação?"
      ]
    },
    {
      "cell_type": "markdown",
      "metadata": {
        "id": "CO1A_FvGS1ta"
      },
      "source": [
        "## O que é um programa de computador?\n",
        "## O que é um algoritmo?"
      ]
    },
    {
      "cell_type": "markdown",
      "metadata": {
        "id": "DMgkyMTTL19Z"
      },
      "source": [
        "# Um pouco mais Sobre o Python"
      ]
    },
    {
      "cell_type": "markdown",
      "metadata": {
        "id": "tYa8OguAS87U"
      },
      "source": [
        "## O que programar? (aplicações)\n",
        "## Aonde programar? (ambientes)\n",
        "## Como instalar o interpretador? "
      ]
    },
    {
      "cell_type": "markdown",
      "metadata": {
        "id": "6TwoUJstMFLm"
      },
      "source": [
        "# A linguagem (\"Hello World\")"
      ]
    },
    {
      "cell_type": "code",
      "metadata": {
        "id": "C9WsLUJoT0bP",
        "colab": {
          "base_uri": "https://localhost:8080/"
        },
        "outputId": "9c53143a-2f20-4547-8250-bb19493020ae"
      },
      "source": [
        "print(\"Hello\")"
      ],
      "execution_count": null,
      "outputs": [
        {
          "output_type": "stream",
          "name": "stdout",
          "text": [
            "Hello\n"
          ]
        }
      ]
    },
    {
      "cell_type": "markdown",
      "metadata": {
        "id": "DZ7l7kimMJG3"
      },
      "source": [
        "#Tipos de Dados básicos"
      ]
    },
    {
      "cell_type": "code",
      "metadata": {
        "id": "30Z0YovCLGcO",
        "colab": {
          "base_uri": "https://localhost:8080/"
        },
        "outputId": "6630643c-2332-4817-8589-342761e5c922"
      },
      "source": [
        "print(type(5)) # O tipo do número 2 é int (número inteiro)\"\n",
        "print(type(2.5)) # O tipo do número 2.5 é float (número decimal)\n",
        "print(type(1.5+1.5j)) # O tipo do número 1 + 1j (j é o número imaginário) é complex\n",
        "print(type(\"O termo termo esta entre aspas\")) # Sequencia de caracteres para armazenar texto\n",
        "print(type(True)) # tipo booleano para Verdadeiro (True) e Falso (False)"
      ],
      "execution_count": null,
      "outputs": [
        {
          "output_type": "stream",
          "name": "stdout",
          "text": [
            "<class 'int'>\n",
            "<class 'float'>\n",
            "<class 'complex'>\n",
            "<class 'str'>\n",
            "<class 'bool'>\n"
          ]
        }
      ]
    },
    {
      "cell_type": "markdown",
      "metadata": {
        "id": "aU6gFhrxM8TS"
      },
      "source": [
        "## Variáveis\n",
        "\n",
        "Uma variável não pode ter o nome comçado por números, eveitmem palavras-chave da linaguagem e caracateres especiais"
      ]
    },
    {
      "cell_type": "code",
      "metadata": {
        "id": "ChunySn1M-oz"
      },
      "source": [
        "# nome_da_variavel = valor\n",
        "altura_do_guilherme =  1.80 \n",
        "texto = \"Hello world\"\n",
        "chovendo = True\n",
        "sabor_bolo = \"de Fubá\"\n",
        "sabao = 1"
      ],
      "execution_count": null,
      "outputs": []
    },
    {
      "cell_type": "code",
      "source": [
        "print(altura_do_guilherme)"
      ],
      "metadata": {
        "colab": {
          "base_uri": "https://localhost:8080/"
        },
        "id": "lYTwLJMvMfga",
        "outputId": "76bc6a9b-85c8-4041-cd64-1a6c06656ab1"
      },
      "execution_count": null,
      "outputs": [
        {
          "output_type": "stream",
          "name": "stdout",
          "text": [
            "1.8\n"
          ]
        }
      ]
    },
    {
      "cell_type": "markdown",
      "metadata": {
        "id": "1NlSUBtMM_7H"
      },
      "source": [
        "## Operações básicas (e nem tão básicas)"
      ]
    },
    {
      "cell_type": "markdown",
      "metadata": {
        "id": "ZTpQVXKzNHtY"
      },
      "source": [
        "### Com dados numéricos"
      ]
    },
    {
      "cell_type": "code",
      "metadata": {
        "id": "-UCzQIB9NF-j",
        "colab": {
          "base_uri": "https://localhost:8080/"
        },
        "outputId": "5d84b829-8825-4fee-ec88-e4c2a6bdf8eb"
      },
      "source": [
        "print(1 + 2) # o '+' é a soma usual\n",
        "print(10.5 - 1.5) # o '-' é a subtração usual\n",
        "print(2 * -2) # o '*' é a multiplicação usual\n",
        "print(9/ 3) # o '/' é a divisão usual\n",
        "\n",
        "print(4 ** -0.15613216) # o '**' é a exponenciação\n",
        "print( 10// 3) # o '//' é o quociente da divisão inteira\n",
        "print(10 % 3) # o '%' é o resto da divisão inteiro"
      ],
      "execution_count": null,
      "outputs": [
        {
          "output_type": "stream",
          "name": "stdout",
          "text": [
            "3\n",
            "9.0\n",
            "-4\n",
            "3.0\n",
            "0.8053767223171078\n",
            "3\n",
            "1\n"
          ]
        }
      ]
    },
    {
      "cell_type": "markdown",
      "metadata": {
        "id": "Nh39_SevNKtR"
      },
      "source": [
        "### Com dados texto"
      ]
    },
    {
      "cell_type": "code",
      "metadata": {
        "id": "NSrdoQRvsLG-"
      },
      "source": [
        "turno = \"tarde\"\n",
        "resultado = \"Boa \" + turno # o '+' é a concatenação de strings"
      ],
      "execution_count": null,
      "outputs": []
    },
    {
      "cell_type": "code",
      "metadata": {
        "id": "7AhtcKhTsz39",
        "colab": {
          "base_uri": "https://localhost:8080/",
          "height": 35
        },
        "outputId": "46fc57a4-db77-4ac9-ddde-b7a48dfc76d2"
      },
      "source": [
        " '2' * 3# o '*' repete a string x vezes onde x é um número inteiro"
      ],
      "execution_count": null,
      "outputs": [
        {
          "output_type": "execute_result",
          "data": {
            "text/plain": [
              "'222'"
            ],
            "application/vnd.google.colaboratory.intrinsic+json": {
              "type": "string"
            }
          },
          "metadata": {},
          "execution_count": 52
        }
      ]
    },
    {
      "cell_type": "markdown",
      "metadata": {
        "id": "yIOzt-VHN8hi"
      },
      "source": [
        "### Com booleanos"
      ]
    },
    {
      "cell_type": "code",
      "metadata": {
        "id": "Cxw63HxZSCLl",
        "colab": {
          "base_uri": "https://localhost:8080/"
        },
        "outputId": "d7099b55-d37e-4ba9-c21b-097a75d4f889"
      },
      "source": [
        "False - 10 # converte o True para 1 e o False para 0 e faz numericamente"
      ],
      "execution_count": null,
      "outputs": [
        {
          "output_type": "execute_result",
          "data": {
            "text/plain": [
              "-10"
            ]
          },
          "metadata": {},
          "execution_count": 56
        }
      ]
    },
    {
      "cell_type": "markdown",
      "source": [
        "## Conversão de tipos de Dados"
      ],
      "metadata": {
        "id": "-nxpBytNluVv"
      }
    },
    {
      "cell_type": "code",
      "metadata": {
        "id": "GIIi8k8pmjUB"
      },
      "source": [
        "# conversão de tipos de Dados\n",
        "\n",
        "string = \"10.5\"\n",
        "numero = float(string)\n",
        "numero + 10"
      ],
      "execution_count": null,
      "outputs": []
    },
    {
      "cell_type": "code",
      "source": [
        "10 + float('10')"
      ],
      "metadata": {
        "colab": {
          "base_uri": "https://localhost:8080/"
        },
        "id": "H7okRieXFCA_",
        "outputId": "d8796188-2139-4232-cefa-539aac1cd22c"
      },
      "execution_count": null,
      "outputs": [
        {
          "output_type": "execute_result",
          "data": {
            "text/plain": [
              "20.0"
            ]
          },
          "metadata": {},
          "execution_count": 81
        }
      ]
    },
    {
      "cell_type": "markdown",
      "source": [
        "## Exercícios"
      ],
      "metadata": {
        "id": "M7_hinXrl3OT"
      }
    },
    {
      "cell_type": "code",
      "metadata": {
        "id": "BdMVKHpz1DwQ"
      },
      "source": [
        "## Escreva uma sequência de operações em python que converta uma medida em polegadas para centimetros -> 1pol = 2.54cm\n"
      ],
      "execution_count": null,
      "outputs": []
    },
    {
      "cell_type": "code",
      "source": [
        "# transforma centimetros em polegadas\n",
        "\n"
      ],
      "metadata": {
        "id": "j0x23wN3jveT"
      },
      "execution_count": null,
      "outputs": []
    },
    {
      "cell_type": "code",
      "metadata": {
        "id": "ZXpfLxgOiwas"
      },
      "source": [
        "### Escreva uma sequência de operações em python que converta um valor em real para dólar -> 1 dol = 4.83 real\n",
        "\n"
      ],
      "execution_count": null,
      "outputs": []
    },
    {
      "cell_type": "code",
      "metadata": {
        "id": "I9npnYCX7qdj"
      },
      "source": [
        "## Escreva uma sequência de operações em python que converta um valor em dólar para real\n"
      ],
      "execution_count": null,
      "outputs": []
    },
    {
      "cell_type": "code",
      "metadata": {
        "id": "4TMp9tEvW30k",
        "colab": {
          "base_uri": "https://localhost:8080/"
        },
        "outputId": "997b5116-8e22-4b40-c43e-b006f01474a8"
      },
      "source": [
        "## Exercicio Conversão de Celsius para Fahrenheit\n",
        "##  C * 9/5  + 32 = F \n",
        "\n",
        "# C = 0;   F = 32\n",
        "# C 100; F = 212\n",
        "# C = -10; F = 14\n",
        "\n",
        "temperatura_celsius = float(input(\"Informe a temperatura em Celsius: \"))\n",
        "temperatura_fahrenheit = 32 + temperatura_celsius * 9 / 5 \n",
        "print(f'{temperatura_celsius}ºC é equivalente a {temperatura_fahrenheit}ºF')\n"
      ],
      "execution_count": null,
      "outputs": [
        {
          "output_type": "stream",
          "name": "stdout",
          "text": [
            "Informe a temperatura em Celsius: 100\n",
            "A temperatura equivalente é: 212.0ºF\n"
          ]
        }
      ]
    },
    {
      "cell_type": "markdown",
      "metadata": {
        "id": "Y19Z_OGlRlSE"
      },
      "source": [
        "# Desvios condicionais"
      ]
    },
    {
      "cell_type": "code",
      "metadata": {
        "id": "7DBV1KJYvjkB"
      },
      "source": [
        "# Operadores de Comparação \n",
        "\n",
        "print(f\"3 == 3: {3 == 3}\") # '==' representa igualdade \n",
        "print('\"Texto\" == \"texto\":', \"texto\" == \"Texto\")\n",
        "print('\"2.34\" == 2.34:', \"2.34\" == 2.34)\n",
        "variavel = 6\n",
        "print(\"2*variavel == 10:\", 2*variavel == 10)\n",
        "\n",
        "print(\"2 > 3:\", 2 > 3) # '>' verifica se o número a esquerda do símbolo é maior que o da direita\n",
        "print(\"2 > 2:\", 2 > 2)\n",
        "print(\"2 < 3:\", 2 < 3) # '<' verifica se o número a esquerda do símbolo é menor que o da direita\n",
        "print(\"2 < 2:\", 2 < 2)\n",
        "print(\"Abacate < abacate:\", \"Abacate\" < \"abacate\")\n",
        "\n",
        "print(\"2 >= 3:\", 2 >= 3) # '>=' verifica se o número a esquerda do símbolo é maior ou igual que o da direita\n",
        "print(\"2 >= 2:\", 2 >= 2)\n",
        "print(\"2 <= 3:\", 2 <= 3) # '<=' verifica se o número a esquerda do símbolo é menor ou igual que o da direita\n",
        "print(\"2 <= 2:\", 2 <= 2)\n",
        "print(\"abacaxi <= abacate:\", \"abacaxi\" <= \"abacate\")\n",
        "\n",
        "print(\"3 != 2:\", 3 != 2) # '!=' verifica se os números são diferentes \n",
        "print(\"2 != 2:\", 2 != 2) # '!=' verifica se os números são diferentes \n",
        "print('\"Texto\" != \"texto\":', \"Texto\" != \"texto\")"
      ],
      "execution_count": null,
      "outputs": []
    },
    {
      "cell_type": "markdown",
      "metadata": {
        "id": "5G2rYzuzRrOL"
      },
      "source": [
        "if condicao:\n",
        "  codigo para executar quando a consiçãão for verdadeira\n",
        "  mais codigo\n",
        "  mais codigo\n",
        "outros códigos que não dependem da condição"
      ]
    },
    {
      "cell_type": "code",
      "metadata": {
        "id": "1OjGyX-is8U-"
      },
      "source": [
        "comando = input(\"Digite:\\n 'p' para converter de polegadas para centimetros\\n 'c' caso contrario\\n 's' para sair \")\n",
        "if comando == 'p' or comando == 'P':\n",
        "  polegadas = float(input(\"Digite a medida em polegadas: \"))\n",
        "  centimetros = polegadas * 2.54\n",
        "  print(f\"A conversão deu {centimetros:.3f} centimetros\")\n",
        "elif comando == 'c': \n",
        "  centimetros = float(input(\"Digite a medida em centimetros: \"))\n",
        "  polegadas = centimetros / 2.54\n",
        "  print(f\"A conversão deu {polegadas:.3f} polegadas\")\n",
        "elif comando == \"s\":\n",
        "  pass\n",
        "else:\n",
        "  print(\"Comando inválido!\")\n"
      ],
      "execution_count": null,
      "outputs": []
    },
    {
      "cell_type": "code",
      "source": [],
      "metadata": {
        "id": "5uZ-Ia4rrNsQ"
      },
      "execution_count": null,
      "outputs": []
    },
    {
      "cell_type": "code",
      "source": [],
      "metadata": {
        "id": "vcMH1J30rmko"
      },
      "execution_count": null,
      "outputs": []
    },
    {
      "cell_type": "code",
      "metadata": {
        "id": "Aw2iw7Kdyhyq"
      },
      "source": [
        "#\n",
        "\n",
        "# a*x² + b*x + c = 0\n",
        "# x² - x + 1 = 0 -> delta = -3 < 0\n",
        "# x² +2x + 1 = 0 -> delta = 0\n",
        "# x^2 - 4x = 0 - > delta = 16 > 0\n",
        "\n",
        "\n"
      ],
      "execution_count": null,
      "outputs": []
    },
    {
      "cell_type": "code",
      "metadata": {
        "id": "yhmC1YFR1ZOf"
      },
      "source": [
        "##  Carro flex \n",
        "\n",
        "## se o valor etanol for maior que 70% do valor do valor gasolina -> gasolina\n",
        "## se o valor do etanol for menor ou igual a 70% do valor gasolina -> etanol\n",
        "\n",
        "\n",
        "#gasolina, etanol = 4, 1 # etanol\n",
        "#gasolina, etanol = 4, 3 # gasolina\n",
        "#gasolina, etanol = 10, 7 # etanol\n",
        "#gasolina, etanol = 10, 7.0000000001 #gasolina"
      ],
      "execution_count": null,
      "outputs": []
    },
    {
      "cell_type": "markdown",
      "metadata": {
        "id": "zGNPUq9q3AYn"
      },
      "source": [
        "### Exercicio\n",
        "dada a tabela o IR, faça um programa que recebe o salário de um trabalhador e devolve o valor do imposto.\n",
        "\n",
        "|Base de cálculo (R$)\t|Alíquota (%)|\n",
        "--------------------- |-------------|\n",
        "|Abaixo de 1.903,99    | 0%  |\n",
        "|De 1.903,99 até 2.826,65|\t7,5%\t|\n",
        "|De 2.826,66 até 3.751,05|\t15%\t|\n",
        "|De 3.751,06 até 4.664,68|\t22,5%\t|\n",
        "|Acima de 4.664,68|\t27,5%|"
      ]
    },
    {
      "cell_type": "code",
      "metadata": {
        "id": "HKHvlmmN37VH"
      },
      "source": [],
      "execution_count": null,
      "outputs": []
    },
    {
      "cell_type": "markdown",
      "metadata": {
        "id": "t_3jPIRCRuLl"
      },
      "source": [
        "# Laços de repetição"
      ]
    },
    {
      "cell_type": "markdown",
      "metadata": {
        "id": "e7KoKb_pR0Qa"
      },
      "source": [
        "## While (enquanto)"
      ]
    },
    {
      "cell_type": "markdown",
      "metadata": {
        "id": "aMCzwTRfvESf"
      },
      "source": [
        "while condição:\n",
        "  executa código para a condição verdadeira"
      ]
    },
    {
      "cell_type": "code",
      "metadata": {
        "id": "4BsdnkpXwlP4"
      },
      "source": [
        "numero = 5\n",
        "while numero < 9:\n",
        "  print(numero)\n",
        "  numero = numero + 1\n",
        "  \n"
      ],
      "execution_count": null,
      "outputs": []
    },
    {
      "cell_type": "code",
      "metadata": {
        "id": "RD5_x2Zk0Zm7"
      },
      "source": [
        "# Faça um programa em python que lê palavras digitadas pelo usuário até que ele digite \"sair\". \n",
        "# Depois informe quantas palavras ela digitou\n"
      ],
      "execution_count": null,
      "outputs": []
    },
    {
      "cell_type": "code",
      "metadata": {
        "id": "JOHNNi2e1YMK"
      },
      "source": [
        "# fazer um código python que calcula x^y\n",
        "\n"
      ],
      "execution_count": null,
      "outputs": []
    },
    {
      "cell_type": "code",
      "metadata": {
        "id": "eUk0gZqw3m6-"
      },
      "source": [
        "## Le números do usuário até ele digitar o numero -1 (ok)\n",
        "## calcula a média dos números digitados\n"
      ],
      "execution_count": null,
      "outputs": []
    },
    {
      "cell_type": "code",
      "metadata": {
        "id": "dnV6i9zQsqGV"
      },
      "source": [
        "## Calcule o fatorial de um número\n"
      ],
      "execution_count": null,
      "outputs": []
    },
    {
      "cell_type": "markdown",
      "metadata": {
        "id": "Z0X8VVoXOBdl"
      },
      "source": [
        "# Coleções de dados"
      ]
    },
    {
      "cell_type": "markdown",
      "metadata": {
        "id": "UaUM36SEOLB9"
      },
      "source": [
        "### Listas"
      ]
    },
    {
      "cell_type": "code",
      "metadata": {
        "id": "E9iNXUgHOEBt"
      },
      "source": [
        "lista = [\"ola\", \"alo\", 1, 1.34, True]"
      ],
      "execution_count": null,
      "outputs": []
    },
    {
      "cell_type": "code",
      "source": [
        "lista"
      ],
      "metadata": {
        "id": "Se4rDpfbEiMS"
      },
      "execution_count": null,
      "outputs": []
    },
    {
      "cell_type": "code",
      "metadata": {
        "id": "JT_mvQMqfCuG"
      },
      "source": [
        "# acessar um elemento da lista\n",
        "lista[4]# em uma lista com N elementos os indices vão de 0 até N-1"
      ],
      "execution_count": null,
      "outputs": []
    },
    {
      "cell_type": "code",
      "metadata": {
        "id": "Di_85DZgN2d_"
      },
      "source": [
        "len(lista) # devolve o numero de elementos em uma coleção"
      ],
      "execution_count": null,
      "outputs": []
    },
    {
      "cell_type": "code",
      "metadata": {
        "id": "bKMMhlezgVy1"
      },
      "source": [
        "lista[1] = False \n",
        "print(lista)"
      ],
      "execution_count": null,
      "outputs": []
    },
    {
      "cell_type": "code",
      "metadata": {
        "id": "1ndUtTowh2mh"
      },
      "source": [
        "lista.append(\"novo elemento\")"
      ],
      "execution_count": null,
      "outputs": []
    },
    {
      "cell_type": "code",
      "metadata": {
        "id": "r5CR8Nf8jZ1T"
      },
      "source": [
        "lista.insert(3, 10)"
      ],
      "execution_count": null,
      "outputs": []
    },
    {
      "cell_type": "code",
      "source": [
        "lista.index(1.34)"
      ],
      "metadata": {
        "id": "GVlBT5IWHrC1"
      },
      "execution_count": null,
      "outputs": []
    },
    {
      "cell_type": "code",
      "metadata": {
        "id": "h__sJQrikHRK"
      },
      "source": [
        "deletado = lista.pop(3)\n",
        "print(lista)\n",
        "print(deletado)"
      ],
      "execution_count": null,
      "outputs": []
    },
    {
      "cell_type": "code",
      "metadata": {
        "id": "Q4Nie8mt7zt2"
      },
      "source": [
        "del(lista[2])"
      ],
      "execution_count": null,
      "outputs": []
    },
    {
      "cell_type": "code",
      "metadata": {
        "id": "mEE7KfNUk0p-"
      },
      "source": [
        "lista2 = []\n",
        "print(lista2)"
      ],
      "execution_count": null,
      "outputs": []
    },
    {
      "cell_type": "code",
      "metadata": {
        "id": "YgN8i0nqk69w"
      },
      "source": [
        "lista2.append(\"hello\")\n",
        "print(lista2)"
      ],
      "execution_count": null,
      "outputs": []
    },
    {
      "cell_type": "code",
      "metadata": {
        "id": "dcaEu2qFTbIi"
      },
      "source": [
        "## Modifique o algoritmo que calculava a média dos números\n",
        "## para encontrar a mediana dos valores\n",
        "## dica: Use listas par guardar todos os valores informados\n",
        "\n",
        "# como calcular a mediana\n",
        "# ordenamos os valores do menos para o maior\n",
        "# se tem núúmeo impar de valores a mediana é o valor do meio\n",
        "#[ 5 , 1,2] -> [1,2,5] -> 2\n",
        "# Se tem um numero par de valores, a mediana é a media dos 2 centrais\n",
        "#[ 5 , 1, 4,2] -> [1,2,4,5]- > 3 = (2+4)/2\n"
      ],
      "execution_count": null,
      "outputs": []
    },
    {
      "cell_type": "markdown",
      "metadata": {
        "id": "Vs5AG3tpR5Tg"
      },
      "source": [
        "\n",
        "### For (para cada)"
      ]
    },
    {
      "cell_type": "code",
      "metadata": {
        "id": "TeVSaVE9MpZz"
      },
      "source": [
        "for num in [1,4,5,6,7]:\n",
        "  print(num)"
      ],
      "execution_count": null,
      "outputs": []
    },
    {
      "cell_type": "markdown",
      "metadata": {
        "id": "-NL7Brd7OXQK"
      },
      "source": [
        "## Dicionários"
      ]
    },
    {
      "cell_type": "code",
      "metadata": {
        "id": "3KvZ1YQWhQ22"
      },
      "source": [
        "nome = 'asdrubal'\n",
        "dicionario = {nome: 'Guilherme', 'matricula': 123456, 'cpf': 0 , 1: ['isso', 'é', 'uma lista']}\n",
        "lista = ['Guilherme',123456, 0,0,0,0,0,0,0,0]"
      ],
      "execution_count": null,
      "outputs": []
    },
    {
      "cell_type": "code",
      "metadata": {
        "id": "X8F8-5nfFjqd"
      },
      "source": [
        "lista[0]"
      ],
      "execution_count": null,
      "outputs": []
    },
    {
      "cell_type": "code",
      "metadata": {
        "id": "Q4vtuz7-FjyW"
      },
      "source": [
        "dicionario[0]"
      ],
      "execution_count": null,
      "outputs": []
    },
    {
      "cell_type": "code",
      "metadata": {
        "id": "sgDJTsc5hICM"
      },
      "source": [
        "dicionario['altura'] = 1.8"
      ],
      "execution_count": null,
      "outputs": []
    },
    {
      "cell_type": "code",
      "metadata": {
        "id": "cesWmaJVMTWO"
      },
      "source": [
        "len(dicionario)"
      ],
      "execution_count": null,
      "outputs": []
    },
    {
      "cell_type": "code",
      "metadata": {
        "id": "r4EImW7MSHBz"
      },
      "source": [
        "dicionario"
      ],
      "execution_count": null,
      "outputs": []
    },
    {
      "cell_type": "code",
      "metadata": {
        "id": "jYfLoqQ7wJK1"
      },
      "source": [
        "dicionario['rg']"
      ],
      "execution_count": null,
      "outputs": []
    },
    {
      "cell_type": "code",
      "metadata": {
        "id": "dwvyXg7JwVmN"
      },
      "source": [
        "dicionario['notas'] = {'matematica': [5,6.5,7], 'historia': [1,2]}"
      ],
      "execution_count": null,
      "outputs": []
    },
    {
      "cell_type": "code",
      "metadata": {
        "id": "-t4urkKQxAdC"
      },
      "source": [
        "dicionario"
      ],
      "execution_count": null,
      "outputs": []
    },
    {
      "cell_type": "code",
      "metadata": {
        "id": "ezhBQbhbx0X9"
      },
      "source": [
        "dicionario['notas']['historia'][1]"
      ],
      "execution_count": null,
      "outputs": []
    },
    {
      "cell_type": "code",
      "metadata": {
        "id": "dbjrEtRVnuoC"
      },
      "source": [
        "alunos = [{'nome': 'Guilherme', 'notas': {'historia': [1, 3, 8] }},{'aluno': 'Gabriel'} ,{'aluno': 'Bianca'}]\n"
      ],
      "execution_count": null,
      "outputs": []
    },
    {
      "cell_type": "code",
      "metadata": {
        "id": "uFsDaKMRx9Vo"
      },
      "source": [
        "if 'ingles' in alunos[0]['notas']:\n",
        "  print(\"ja tem a nota\")"
      ],
      "execution_count": null,
      "outputs": []
    },
    {
      "cell_type": "code",
      "metadata": {
        "id": "ohVSbezpwa1i"
      },
      "source": [
        "print(dicionario)"
      ],
      "execution_count": null,
      "outputs": []
    },
    {
      "cell_type": "code",
      "metadata": {
        "id": "qSiLNr2lyHjU"
      },
      "source": [
        "for chave, valor in dicionario.items():\n",
        "  print(chave, valor)"
      ],
      "execution_count": null,
      "outputs": []
    },
    {
      "cell_type": "markdown",
      "metadata": {
        "id": "DKE8lbKVT670"
      },
      "source": [
        "## Tuplas"
      ]
    },
    {
      "cell_type": "code",
      "metadata": {
        "id": "p8xl5azdT9sy"
      },
      "source": [
        "t = (1,2, 3)\n"
      ],
      "execution_count": null,
      "outputs": []
    },
    {
      "cell_type": "code",
      "metadata": {
        "id": "h1Q4qUbu1w-c"
      },
      "source": [
        "t[0] = 10"
      ],
      "execution_count": null,
      "outputs": []
    },
    {
      "cell_type": "markdown",
      "metadata": {
        "id": "lGl4nOxCSHgX"
      },
      "source": [
        "# Funções"
      ]
    },
    {
      "cell_type": "code",
      "metadata": {
        "id": "5lsvSsB-2wV4"
      },
      "source": [
        "def diz_ola(nome):\n",
        "  print('Olá')\n",
        "  print('tudo bem?')\n",
        "  print(nome)"
      ],
      "execution_count": null,
      "outputs": []
    }
  ]
}